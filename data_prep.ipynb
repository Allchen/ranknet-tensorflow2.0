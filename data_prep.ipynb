{
 "cells": [
  {
   "cell_type": "code",
   "execution_count": null,
   "metadata": {},
   "outputs": [],
   "source": [
    "import os\n",
    "import pandas as pd\n",
    "import numpy as np\n",
    "import datetime\n",
    "import tensorflow as tf\n",
    "import tqdm"
   ]
  },
  {
   "cell_type": "code",
   "execution_count": 2,
   "metadata": {},
   "outputs": [],
   "source": [
    "TF_RECORDS = \"./data/tf_records/\""
   ]
  },
  {
   "cell_type": "code",
   "execution_count": 13,
   "metadata": {},
   "outputs": [],
   "source": [
    "def _parse_line(line):\n",
    "    splits = line.strip().split(\" \")\n",
    "    l = splits[0], \n",
    "    g = splits[1].split(\":\")[1]\n",
    "    f = [split.split(\":\")[1] for split in splits[2:]]\n",
    "\n",
    "    return int(g), np.array(f).astype(np.float32), int(l[0])"
   ]
  },
  {
   "cell_type": "code",
   "execution_count": 14,
   "metadata": {},
   "outputs": [],
   "source": [
    "data_path = \"/media/akanyaani/Disk2/Ml_Data/LTR/MSLR-WEB10K/Fold1/test.txt\""
   ]
  },
  {
   "cell_type": "code",
   "execution_count": 15,
   "metadata": {},
   "outputs": [],
   "source": [
    "def create_int_feature(values): \n",
    "    feature = tf.train.Feature(int64_list=tf.train.Int64List(value=list(values))) \n",
    "    return feature \n",
    "\n",
    "def create_float_feature(values): \n",
    "    feature = tf.train.Feature(float_list=tf.train.FloatList(value=list(values))) \n",
    "    return feature\n",
    "\n",
    "def serialize_example(q_id, feature, labels):\n",
    "    feature = {\n",
    "        'q_id': create_int_feature(q_id),\n",
    "        'feature': create_float_feature(feature),\n",
    "        'labels': create_int_feature(labels)\n",
    "    }\n",
    "    example_proto = tf.train.Example(features=tf.train.Features(feature=feature))\n",
    "    return example_proto.SerializeToString()"
   ]
  },
  {
   "cell_type": "code",
   "execution_count": 16,
   "metadata": {},
   "outputs": [],
   "source": [
    "def create_tf_records(data_path, per_file_limit=50000):\n",
    "    print(\"Creating TF Records...............\")\n",
    "    \n",
    "    filename = TF_RECORDS + str(datetime.datetime.now().timestamp()) + \".tfrecord\"\n",
    "    tf_writer = tf.io.TFRecordWriter(filename)\n",
    "    doc_counts = 0\n",
    "    with open(data_path, 'r') as f:\n",
    "        for line in tqdm.tqdm(f):\n",
    "            g, f, l = _parse_line(line)\n",
    "            \n",
    "            print(g)\n",
    "            print(f)\n",
    "            print(l)\n",
    "            example = serialize_example([g], f, [l])\n",
    "            tf_writer.write(example)\n",
    "            doc_counts += 1\n",
    "            if doc_counts >= per_file_limit:\n",
    "                tf_writer.write(example)\n",
    "                doc_counts = 0\n",
    "                tf_writer.close()\n",
    "                filename = TF_RECORDS + str(datetime.datetime.now().timestamp()) + \".tfrecord\"\n",
    "                tf_writer = tf.io.TFRecordWriter(filename)\n",
    "    tf_writer.close()"
   ]
  },
  {
   "cell_type": "code",
   "execution_count": null,
   "metadata": {},
   "outputs": [],
   "source": [
    "create_tf_records(data_path)"
   ]
  },
  {
   "cell_type": "code",
   "execution_count": null,
   "metadata": {},
   "outputs": [],
   "source": []
  }
 ],
 "metadata": {
  "kernelspec": {
   "display_name": "Python 3",
   "language": "python",
   "name": "python3"
  },
  "language_info": {
   "codemirror_mode": {
    "name": "ipython",
    "version": 3
   },
   "file_extension": ".py",
   "mimetype": "text/x-python",
   "name": "python",
   "nbconvert_exporter": "python",
   "pygments_lexer": "ipython3",
   "version": "3.7.4"
  }
 },
 "nbformat": 4,
 "nbformat_minor": 2
}
